{
  "nbformat": 4,
  "nbformat_minor": 0,
  "metadata": {
    "colab": {
      "name": "CNN practice.ipynb",
      "provenance": [],
      "collapsed_sections": []
    },
    "kernelspec": {
      "name": "python3",
      "display_name": "Python 3"
    }
  },
  "cells": [
    {
      "cell_type": "code",
      "metadata": {
        "id": "TLjNDmnGCUxV"
      },
      "source": [
        "from sklearn.datasets import load_digits \n",
        "import matplotlib.pyplot as plt\n",
        "import seaborn as sns\n",
        "from sklearn.model_selection import train_test_split, cross_val_score, GridSearchCV, learning_curve, KFold\n",
        "from sklearn.preprocessing import MinMaxScaler, OneHotEncoder, StandardScaler\n",
        "import random\n",
        "from sklearn.svm import SVC\n",
        "import numpy as np\n",
        "from sklearn.metrics import confusion_matrix\n",
        "from keras.wrappers.scikit_learn import KerasClassifier\n",
        "from sklearn.model_selection import RandomizedSearchCV\n",
        "from tensorflow.keras.models import Sequential \n",
        "from tensorflow.keras.layers import Dense\n",
        "import numpy as np\n",
        "import pandas as pd\n",
        "import matplotlib.pyplot as plt\n",
        "import seaborn as sns"
      ],
      "execution_count": 1,
      "outputs": []
    },
    {
      "cell_type": "code",
      "metadata": {
        "id": "TDtQOWtG4JHw"
      },
      "source": [
        "import plotly.graph_objects as go\n"
      ],
      "execution_count": 2,
      "outputs": []
    },
    {
      "cell_type": "code",
      "metadata": {
        "id": "KH6XD7KxE1YI"
      },
      "source": [
        "digits = load_digits(return_X_y =True)\n",
        "X=digits[0] \n",
        "y=digits[1] \n",
        "#X=X/255"
      ],
      "execution_count": 3,
      "outputs": []
    },
    {
      "cell_type": "code",
      "metadata": {
        "id": "Fu0SwcuTFASL",
        "colab": {
          "base_uri": "https://localhost:8080/"
        },
        "outputId": "679d46ee-2acb-49d8-9312-ed5ecadaffda"
      },
      "source": [
        "len(y)"
      ],
      "execution_count": 4,
      "outputs": [
        {
          "output_type": "execute_result",
          "data": {
            "text/plain": [
              "1797"
            ]
          },
          "metadata": {
            "tags": []
          },
          "execution_count": 4
        }
      ]
    },
    {
      "cell_type": "code",
      "metadata": {
        "id": "JU5nYGE4JP37",
        "colab": {
          "base_uri": "https://localhost:8080/"
        },
        "outputId": "9eca6028-2423-4531-80ee-c56517fbe5f6"
      },
      "source": [
        "len(X)"
      ],
      "execution_count": 5,
      "outputs": [
        {
          "output_type": "execute_result",
          "data": {
            "text/plain": [
              "1797"
            ]
          },
          "metadata": {
            "tags": []
          },
          "execution_count": 5
        }
      ]
    },
    {
      "cell_type": "code",
      "metadata": {
        "id": "iRHURklCJ0Jx",
        "colab": {
          "base_uri": "https://localhost:8080/",
          "height": 282
        },
        "outputId": "ec50ce6a-f31c-4c1f-ff00-af8c1ad8c7eb"
      },
      "source": [
        "plt.imshow(X[2,:].reshape(8,8))"
      ],
      "execution_count": 6,
      "outputs": [
        {
          "output_type": "execute_result",
          "data": {
            "text/plain": [
              "<matplotlib.image.AxesImage at 0x7fe4394d5f28>"
            ]
          },
          "metadata": {
            "tags": []
          },
          "execution_count": 6
        },
        {
          "output_type": "display_data",
          "data": {
            "image/png": "[encoded data removed]",
            "text/plain": [
              "<Figure size 432x288 with 1 Axes>"
            ]
          },
          "metadata": {
            "tags": [],
            "needs_background": "light"
          }
        }
      ]
    },
    {
      "cell_type": "code",
      "metadata": {
        "id": "m_TwdUozMITC"
      },
      "source": [
        "X_train, X_test, y_train, y_test = train_test_split(X,y, test_size=0.2)"
      ],
      "execution_count": 7,
      "outputs": []
    },
    {
      "cell_type": "markdown",
      "metadata": {
        "id": "fOrZ7OkB4sIv"
      },
      "source": [
        "# **CNN**"
      ]
    },
    {
      "cell_type": "code",
      "metadata": {
        "id": "iQ8oLI5axtjB"
      },
      "source": [
        "X_train = X_train/255\n",
        "X_test = X_test/255"
      ],
      "execution_count": null,
      "outputs": []
    },
    {
      "cell_type": "code",
      "metadata": {
        "id": "Fi6fAlLe4yrv"
      },
      "source": [
        "X_train=X_train.reshape((X_train.shape[0],8,8,1))\n",
        "X_test=X_test.reshape((X_test.shape[0],8,8,1))"
      ],
      "execution_count": null,
      "outputs": []
    },
    {
      "cell_type": "code",
      "metadata": {
        "id": "lGdQYtFoYkXu"
      },
      "source": [
        "from keras.wrappers.scikit_learn import KerasClassifier\n",
        "from sklearn.model_selection import RandomizedSearchCV \n"
      ],
      "execution_count": null,
      "outputs": []
    },
    {
      "cell_type": "code",
      "metadata": {
        "id": "ba4rdiulYmV_"
      },
      "source": [
        "Hayperparameters=[{'model_choice':['model1'],'lrt':[0.001,0.005,0.01,0.02],'n_filters':[16,32,64,128],'n_units':[32,64,128,256], \n",
        "                   'stride':[1,2],'filter_size':[2,3,5],'a_function':['elu','relu'],'drop_out':[False,True],\n",
        "                   'pool':[False,True],'epochs':[10,30,50],'batch_size':[50,100,120]},\n",
        "                  {'model_choice':['model2'],'lrt':[0.001,0.01,0.02],'n_filters':[16,32,64,128],'n_units':[32,64,128,256], \n",
        "                   'stride':[(1,1),(2,2)],'filter_size':[(3,4),(3,5)],'a_function':['elu','relu'],'drop_out':[False,True],\n",
        "                   'pool':[False,True],'epochs':[10,40],'batch_size':[30,50,70]}]"
      ],
      "execution_count": null,
      "outputs": []
    },
    {
      "cell_type": "code",
      "metadata": {
        "id": "Ifg3Io7FRq3N"
      },
      "source": [
        "import tensorflow as tf\n",
        "from tensorflow import keras"
      ],
      "execution_count": null,
      "outputs": []
    },
    {
      "cell_type": "code",
      "metadata": {
        "id": "mbzVOHmG7ah8"
      },
      "source": [
        "def bl_model(model_choice,lrt,n_filters,n_units,stride,filter_size,a_function,drop_out,pool):\n",
        "  model=keras.models.Sequential()\n",
        "  if model_choice=='model1' and pool==False and drop_out==True:\n",
        "    model.add(keras.layers.Conv2D(filters=n_filters,kernel_size=filter_size,strides=stride,activation=a_function,input_shape=(8,8,1)))\n",
        "    model.add(keras.layers.Flatten())\n",
        "    model.add(keras.layers.Dropout(0.5))\n",
        "    model.add(keras.layers.Dense(n_units,activation=a_function))\n",
        "  if model_choice=='model1' and pool==True and drop_out==True:\n",
        "    model.add(keras.layers.Conv2D(filters=n_filters,kernel_size=filter_size,strides=stride,activation=a_function,input_shape=(8,8,1),padding='same'))\n",
        "    model.add(keras.layers.Maxpool2D(pool_size=2,strides=2))\n",
        "    model.add(keras.layers.Flatten())\n",
        "    model.add(keras.layers.Dropout(0.5))\n",
        "    model.add(keras.layers.Dense(n_units,activation=a_function))\n",
        "  if model_choice=='model1' and pool==True and drop_out==False:\n",
        "    model.add(keras.layers.Conv2D(filters=n_filters,kernel_size=filter_size,strides=stride,activation=a_function,input_shape=(8,8,1),padding='same'))\n",
        "    model.add(keras.layers.Maxpool2D(pool_size=2,strides=2))\n",
        "    model.add(keras.layers.Flatten())\n",
        "    model.add(keras.layers.Dense(n_units,activation=a_function)) \n",
        "  if model_choice=='model1' and pool==False and drop_out==False:\n",
        "    model.add(keras.layers.Conv2D(filters=n_filters,kernel_size=filter_size,strides=stride,activation=a_function,input_shape=(8,8,1)))\n",
        "    model.add(keras.layers.Flatten())\n",
        "    model.add(keras.layers.Dense(n_units,activation=a_function))\n",
        "  if model_choice=='model2' and pool==True and drop_out==True:\n",
        "    model.add(keras.layers.Conv2D(filters=n_filters[0],kernel_size=filter_size[0],strides=stride[0],activation=a_function[0],input_shape=(8,8,1),padding='same'))\n",
        "    model.add(keras.layers.Dropout(0.5))\n",
        "    for i in range(1,len(n_filters)):\n",
        "     model.add(keras.layers.Conv2D(filters=n_filters[i],kernel_size=filter_size[i],strides=stride[i],activation=a_function[i]))\n",
        "    model.add(keras.layers.Maxpool2D(pool_size=2,strides=2))\n",
        "    model.add(keras.layers.Flatten())\n",
        "    model.add(keras.layers.Dense(n_units,activation=a_function[i]))\n",
        "  if model_choice=='model2' and pool==False and drop_out==True:\n",
        "    model.add(keras.layers.Conv2D(filters=n_filters[0],kernel_size=filter_size[0],strides=stride[0],activation=a_function[0],input_shape=(8,8,1),padding='same'))\n",
        "    model.add(keras.layers.Dropout(0.5))\n",
        "    for i in range(1,len(n_filters)):\n",
        "     model.add(keras.layers.Conv2D(filters=n_filters[i],kernel_size=filter_size[i],strides=stride[i],activation=a_function[i]))\n",
        "    model.add(keras.layers.Flatten())\n",
        "    model.add(keras.layers.Dense(n_units,activation=a_function[i]))\n",
        "  if model_choice=='model2' and pool==True and drop_out==False:\n",
        "    model.add(keras.layers.Conv2D(filters=n_filters[0],kernel_size=filter_size[0],strides=stride[0],activation=a_function[0],input_shape=(8,8,1),padding='same'))\n",
        "    for i in range(1,len(n_filters)):\n",
        "     model.add(keras.layers.Conv2D(filters=n_filters[i],kernel_size=filter_size[i],strides=stride[i],activation=a_function[i]))\n",
        "    model.add(keras.layers.Maxpool2D(pool_size=2,strides=2))\n",
        "    model.add(keras.layers.Flatten())\n",
        "    model.add(keras.layers.Dense(n_units,activation=a_function[i]))\n",
        "  if model_choice=='model2' and pool==True and drop_out==False:\n",
        "    model.add(keras.layers.Conv2D(filters=n_filters[0],kernel_size=filter_size[0],strides=stride[0],activation=a_function[0],input_shape=(8,8,1),padding='same'))\n",
        "    for i in range(1,len(n_filters)):\n",
        "     model.add(keras.layers.Conv2D(filters=n_filters[i],kernel_size=filter_size[i],strides=stride[i],activation=a_function[i]))\n",
        "    model.add(keras.layers.Flatten())\n",
        "    model.add(keras.layers.Dense(n_units,activation=a_function[i]))\n",
        "  model.add(keras.layers.Dense(10,activation='softmax'))\n",
        "  model.compile(optimizer=tf.compat.v1.train.AdamOptimizer(learning_rate=lrt),loss='sparse_categorical_crossentropy',metrics=['accuracy'])\n",
        "  return (model)\n",
        "\n",
        "  \n",
        "cnn_fm=KerasClassifier(bl_model)\n",
        "cnn=RandomizedSearchCV(cnn_fm,param_distributions=Hayperparameters, n_iter=10,scoring='accuracy',cv=5)"
      ],
      "execution_count": null,
      "outputs": []
    },
    {
      "cell_type": "code",
      "metadata": {
        "id": "Ck7CsVc8qZqY"
      },
      "source": [
        "X_test=np.array(X_test)\n",
        "X_test=X_test/255\n",
        "y_test=np.array(y_test)"
      ],
      "execution_count": null,
      "outputs": []
    },
    {
      "cell_type": "code",
      "metadata": {
        "id": "h_CLjH6KaGgc",
        "colab": {
          "base_uri": "https://localhost:8080/",
          "height": 1000
        },
        "outputId": "6193eb5f-96ca-43fe-fee1-fc48b64d17fa"
      },
      "source": [
        "h=cnn.fit( X_train,y_train)\n"
      ],
      "execution_count": null,
      "outputs": [
        {
          "output_type": "stream",
          "text": [
            "/usr/local/lib/python3.6/dist-packages/sklearn/model_selection/_validation.py:536: FitFailedWarning:\n",
            "\n",
            "Estimator fit failed. The score on this train-test partition for these parameters will be set to nan. Details: \n",
            "TypeError: 'int' object is not subscriptable\n",
            "\n",
            "\n",
            "/usr/local/lib/python3.6/dist-packages/sklearn/model_selection/_validation.py:536: FitFailedWarning:\n",
            "\n",
            "Estimator fit failed. The score on this train-test partition for these parameters will be set to nan. Details: \n",
            "AttributeError: module 'tensorflow.keras.layers' has no attribute 'Maxpool2D'\n",
            "\n",
            "\n"
          ],
          "name": "stderr"
        },
        {
          "output_type": "stream",
          "text": [
            "Epoch 1/10\n",
            "39/39 [==============================] - 0s 2ms/step - loss: 2.2955 - accuracy: 0.1819\n",
            "Epoch 2/10\n",
            "39/39 [==============================] - 0s 2ms/step - loss: 2.2837 - accuracy: 0.2533\n",
            "Epoch 3/10\n",
            "39/39 [==============================] - 0s 2ms/step - loss: 2.2721 - accuracy: 0.3246\n",
            "Epoch 4/10\n",
            "39/39 [==============================] - 0s 2ms/step - loss: 2.2603 - accuracy: 0.4343\n",
            "Epoch 5/10\n",
            "39/39 [==============================] - 0s 3ms/step - loss: 2.2489 - accuracy: 0.5901\n",
            "Epoch 6/10\n",
            "39/39 [==============================] - 0s 3ms/step - loss: 2.2371 - accuracy: 0.6771\n",
            "Epoch 7/10\n",
            "39/39 [==============================] - 0s 3ms/step - loss: 2.2257 - accuracy: 0.7119\n",
            "Epoch 8/10\n",
            "39/39 [==============================] - 0s 3ms/step - loss: 2.2143 - accuracy: 0.7563\n",
            "Epoch 9/10\n",
            "39/39 [==============================] - 0s 2ms/step - loss: 2.2030 - accuracy: 0.7850\n",
            "Epoch 10/10\n",
            "39/39 [==============================] - 0s 3ms/step - loss: 2.1917 - accuracy: 0.7894\n",
            "Epoch 1/10\n",
            "39/39 [==============================] - 0s 2ms/step - loss: 2.2999 - accuracy: 0.1149\n",
            "Epoch 2/10\n",
            "39/39 [==============================] - 0s 2ms/step - loss: 2.2870 - accuracy: 0.2063\n",
            "Epoch 3/10\n",
            "39/39 [==============================] - 0s 2ms/step - loss: 2.2748 - accuracy: 0.2968\n",
            "Epoch 4/10\n",
            "39/39 [==============================] - 0s 2ms/step - loss: 2.2627 - accuracy: 0.3995\n",
            "Epoch 5/10\n",
            "39/39 [==============================] - 0s 2ms/step - loss: 2.2509 - accuracy: 0.4717\n",
            "Epoch 6/10\n",
            "39/39 [==============================] - 0s 2ms/step - loss: 2.2388 - accuracy: 0.5457\n",
            "Epoch 7/10\n",
            "39/39 [==============================] - 0s 2ms/step - loss: 2.2272 - accuracy: 0.5849\n",
            "Epoch 8/10\n",
            "39/39 [==============================] - 0s 2ms/step - loss: 2.2155 - accuracy: 0.6031\n",
            "Epoch 9/10\n",
            "39/39 [==============================] - 0s 3ms/step - loss: 2.2041 - accuracy: 0.6301\n",
            "Epoch 10/10\n",
            "39/39 [==============================] - 0s 3ms/step - loss: 2.1925 - accuracy: 0.6327\n",
            "Epoch 1/10\n",
            "39/39 [==============================] - 0s 3ms/step - loss: 2.3098 - accuracy: 0.0209\n",
            "Epoch 2/10\n",
            "39/39 [==============================] - 0s 2ms/step - loss: 2.2977 - accuracy: 0.0757\n",
            "Epoch 3/10\n",
            "39/39 [==============================] - 0s 2ms/step - loss: 2.2855 - accuracy: 0.1791\n",
            "Epoch 4/10\n",
            "39/39 [==============================] - 0s 2ms/step - loss: 2.2736 - accuracy: 0.3087\n",
            "Epoch 5/10\n",
            "39/39 [==============================] - 0s 2ms/step - loss: 2.2617 - accuracy: 0.4070\n",
            "Epoch 6/10\n",
            "39/39 [==============================] - 0s 2ms/step - loss: 2.2498 - accuracy: 0.4461\n",
            "Epoch 7/10\n",
            "39/39 [==============================] - 0s 3ms/step - loss: 2.2381 - accuracy: 0.4904\n",
            "Epoch 8/10\n",
            "39/39 [==============================] - 0s 4ms/step - loss: 2.2266 - accuracy: 0.5122\n",
            "Epoch 9/10\n",
            "39/39 [==============================] - 0s 5ms/step - loss: 2.2148 - accuracy: 0.5357\n",
            "Epoch 10/10\n",
            "39/39 [==============================] - 0s 4ms/step - loss: 2.2034 - accuracy: 0.5783\n",
            "Epoch 1/10\n",
            "39/39 [==============================] - 0s 3ms/step - loss: 2.2970 - accuracy: 0.0939\n",
            "Epoch 2/10\n",
            "39/39 [==============================] - 0s 3ms/step - loss: 2.2846 - accuracy: 0.1130\n",
            "Epoch 3/10\n",
            "39/39 [==============================] - 0s 2ms/step - loss: 2.2723 - accuracy: 0.2235\n",
            "Epoch 4/10\n",
            "39/39 [==============================] - 0s 3ms/step - loss: 2.2602 - accuracy: 0.3591\n",
            "Epoch 5/10\n",
            "39/39 [==============================] - 0s 2ms/step - loss: 2.2481 - accuracy: 0.5357\n",
            "Epoch 6/10\n",
            "39/39 [==============================] - 0s 4ms/step - loss: 2.2364 - accuracy: 0.6157\n",
            "Epoch 7/10\n",
            "39/39 [==============================] - 0s 5ms/step - loss: 2.2245 - accuracy: 0.6600\n",
            "Epoch 8/10\n",
            "39/39 [==============================] - 0s 4ms/step - loss: 2.2128 - accuracy: 0.6783\n",
            "Epoch 9/10\n",
            "39/39 [==============================] - 0s 4ms/step - loss: 2.2011 - accuracy: 0.6852\n",
            "Epoch 10/10\n",
            "39/39 [==============================] - 0s 4ms/step - loss: 2.1896 - accuracy: 0.7287\n",
            "Epoch 1/10\n",
            "39/39 [==============================] - 0s 2ms/step - loss: 2.2904 - accuracy: 0.2270\n",
            "Epoch 2/10\n",
            "39/39 [==============================] - 0s 2ms/step - loss: 2.2778 - accuracy: 0.3748\n",
            "Epoch 3/10\n",
            "39/39 [==============================] - 0s 2ms/step - loss: 2.2656 - accuracy: 0.5252\n",
            "Epoch 4/10\n",
            "39/39 [==============================] - 0s 2ms/step - loss: 2.2534 - accuracy: 0.6365\n",
            "Epoch 5/10\n",
            "39/39 [==============================] - 0s 2ms/step - loss: 2.2415 - accuracy: 0.6713\n",
            "Epoch 6/10\n",
            "39/39 [==============================] - 0s 2ms/step - loss: 2.2295 - accuracy: 0.6939\n",
            "Epoch 7/10\n",
            "39/39 [==============================] - 0s 2ms/step - loss: 2.2177 - accuracy: 0.7113\n",
            "Epoch 8/10\n",
            "39/39 [==============================] - 0s 2ms/step - loss: 2.2058 - accuracy: 0.7470\n",
            "Epoch 9/10\n",
            "39/39 [==============================] - 0s 3ms/step - loss: 2.1944 - accuracy: 0.7470\n",
            "Epoch 10/10\n",
            "39/39 [==============================] - 0s 2ms/step - loss: 2.1828 - accuracy: 0.7652\n",
            "Epoch 1/50\n"
          ],
          "name": "stdout"
        },
        {
          "output_type": "stream",
          "text": [
            "/usr/local/lib/python3.6/dist-packages/sklearn/model_selection/_validation.py:536: FitFailedWarning:\n",
            "\n",
            "Estimator fit failed. The score on this train-test partition for these parameters will be set to nan. Details: \n",
            "ValueError: in user code:\n",
            "\n",
            "    /usr/local/lib/python3.6/dist-packages/tensorflow/python/keras/engine/training.py:806 train_function  *\n",
            "        return step_function(self, iterator)\n",
            "    /usr/local/lib/python3.6/dist-packages/tensorflow/python/keras/engine/training.py:796 step_function  **\n",
            "        outputs = model.distribute_strategy.run(run_step, args=(data,))\n",
            "    /usr/local/lib/python3.6/dist-packages/tensorflow/python/distribute/distribute_lib.py:1211 run\n",
            "        return self._extended.call_for_each_replica(fn, args=args, kwargs=kwargs)\n",
            "    /usr/local/lib/python3.6/dist-packages/tensorflow/python/distribute/distribute_lib.py:2585 call_for_each_replica\n",
            "        return self._call_for_each_replica(fn, args, kwargs)\n",
            "    /usr/local/lib/python3.6/dist-packages/tensorflow/python/distribute/distribute_lib.py:2945 _call_for_each_replica\n",
            "        return fn(*args, **kwargs)\n",
            "    /usr/local/lib/python3.6/dist-packages/tensorflow/python/keras/engine/training.py:789 run_step  **\n",
            "        outputs = model.train_step(data)\n",
            "    /usr/local/lib/python3.6/dist-packages/tensorflow/python/keras/engine/training.py:747 train_step\n",
            "        y_pred = self(x, training=True)\n",
            "    /usr/local/lib/python3.6/dist-packages/tensorflow/python/keras/engine/base_layer.py:976 __call__\n",
            "        self.name)\n",
            "    /usr/local/lib/python3.6/dist-packages/tensorflow/python/keras/engine/input_spec.py:196 assert_input_compatibility\n",
            "        str(x.shape.as_list()))\n",
            "\n",
            "    ValueError: Input 0 of layer sequential_171 is incompatible with the layer: : expected min_ndim=4, found ndim=2. Full shape received: [None, 64]\n",
            "\n",
            "\n",
            "\n"
          ],
          "name": "stderr"
        },
        {
          "output_type": "stream",
          "text": [
            "Epoch 1/50\n",
            "Epoch 1/50\n"
          ],
          "name": "stdout"
        },
        {
          "output_type": "stream",
          "text": [
            "/usr/local/lib/python3.6/dist-packages/sklearn/model_selection/_validation.py:536: FitFailedWarning:\n",
            "\n",
            "Estimator fit failed. The score on this train-test partition for these parameters will be set to nan. Details: \n",
            "ValueError: in user code:\n",
            "\n",
            "    /usr/local/lib/python3.6/dist-packages/tensorflow/python/keras/engine/training.py:806 train_function  *\n",
            "        return step_function(self, iterator)\n",
            "    /usr/local/lib/python3.6/dist-packages/tensorflow/python/keras/engine/training.py:796 step_function  **\n",
            "        outputs = model.distribute_strategy.run(run_step, args=(data,))\n",
            "    /usr/local/lib/python3.6/dist-packages/tensorflow/python/distribute/distribute_lib.py:1211 run\n",
            "        return self._extended.call_for_each_replica(fn, args=args, kwargs=kwargs)\n",
            "    /usr/local/lib/python3.6/dist-packages/tensorflow/python/distribute/distribute_lib.py:2585 call_for_each_replica\n",
            "        return self._call_for_each_replica(fn, args, kwargs)\n",
            "    /usr/local/lib/python3.6/dist-packages/tensorflow/python/distribute/distribute_lib.py:2945 _call_for_each_replica\n",
            "        return fn(*args, **kwargs)\n",
            "    /usr/local/lib/python3.6/dist-packages/tensorflow/python/keras/engine/training.py:789 run_step  **\n",
            "        outputs = model.train_step(data)\n",
            "    /usr/local/lib/python3.6/dist-packages/tensorflow/python/keras/engine/training.py:747 train_step\n",
            "        y_pred = self(x, training=True)\n",
            "    /usr/local/lib/python3.6/dist-packages/tensorflow/python/keras/engine/base_layer.py:976 __call__\n",
            "        self.name)\n",
            "    /usr/local/lib/python3.6/dist-packages/tensorflow/python/keras/engine/input_spec.py:196 assert_input_compatibility\n",
            "        str(x.shape.as_list()))\n",
            "\n",
            "    ValueError: Input 0 of layer sequential_172 is incompatible with the layer: : expected min_ndim=4, found ndim=2. Full shape received: [None, 64]\n",
            "\n",
            "\n",
            "\n",
            "/usr/local/lib/python3.6/dist-packages/sklearn/model_selection/_validation.py:536: FitFailedWarning:\n",
            "\n",
            "Estimator fit failed. The score on this train-test partition for these parameters will be set to nan. Details: \n",
            "ValueError: in user code:\n",
            "\n",
            "    /usr/local/lib/python3.6/dist-packages/tensorflow/python/keras/engine/training.py:806 train_function  *\n",
            "        return step_function(self, iterator)\n",
            "    /usr/local/lib/python3.6/dist-packages/tensorflow/python/keras/engine/training.py:796 step_function  **\n",
            "        outputs = model.distribute_strategy.run(run_step, args=(data,))\n",
            "    /usr/local/lib/python3.6/dist-packages/tensorflow/python/distribute/distribute_lib.py:1211 run\n",
            "        return self._extended.call_for_each_replica(fn, args=args, kwargs=kwargs)\n",
            "    /usr/local/lib/python3.6/dist-packages/tensorflow/python/distribute/distribute_lib.py:2585 call_for_each_replica\n",
            "        return self._call_for_each_replica(fn, args, kwargs)\n",
            "    /usr/local/lib/python3.6/dist-packages/tensorflow/python/distribute/distribute_lib.py:2945 _call_for_each_replica\n",
            "        return fn(*args, **kwargs)\n",
            "    /usr/local/lib/python3.6/dist-packages/tensorflow/python/keras/engine/training.py:789 run_step  **\n",
            "        outputs = model.train_step(data)\n",
            "    /usr/local/lib/python3.6/dist-packages/tensorflow/python/keras/engine/training.py:747 train_step\n",
            "        y_pred = self(x, training=True)\n",
            "    /usr/local/lib/python3.6/dist-packages/tensorflow/python/keras/engine/base_layer.py:976 __call__\n",
            "        self.name)\n",
            "    /usr/local/lib/python3.6/dist-packages/tensorflow/python/keras/engine/input_spec.py:196 assert_input_compatibility\n",
            "        str(x.shape.as_list()))\n",
            "\n",
            "    ValueError: Input 0 of layer sequential_173 is incompatible with the layer: : expected min_ndim=4, found ndim=2. Full shape received: [50, 64]\n",
            "\n",
            "\n",
            "\n"
          ],
          "name": "stderr"
        },
        {
          "output_type": "stream",
          "text": [
            "Epoch 1/50\n",
            "Epoch 1/50\n"
          ],
          "name": "stdout"
        },
        {
          "output_type": "stream",
          "text": [
            "/usr/local/lib/python3.6/dist-packages/sklearn/model_selection/_validation.py:536: FitFailedWarning:\n",
            "\n",
            "Estimator fit failed. The score on this train-test partition for these parameters will be set to nan. Details: \n",
            "ValueError: in user code:\n",
            "\n",
            "    /usr/local/lib/python3.6/dist-packages/tensorflow/python/keras/engine/training.py:806 train_function  *\n",
            "        return step_function(self, iterator)\n",
            "    /usr/local/lib/python3.6/dist-packages/tensorflow/python/keras/engine/training.py:796 step_function  **\n",
            "        outputs = model.distribute_strategy.run(run_step, args=(data,))\n",
            "    /usr/local/lib/python3.6/dist-packages/tensorflow/python/distribute/distribute_lib.py:1211 run\n",
            "        return self._extended.call_for_each_replica(fn, args=args, kwargs=kwargs)\n",
            "    /usr/local/lib/python3.6/dist-packages/tensorflow/python/distribute/distribute_lib.py:2585 call_for_each_replica\n",
            "        return self._call_for_each_replica(fn, args, kwargs)\n",
            "    /usr/local/lib/python3.6/dist-packages/tensorflow/python/distribute/distribute_lib.py:2945 _call_for_each_replica\n",
            "        return fn(*args, **kwargs)\n",
            "    /usr/local/lib/python3.6/dist-packages/tensorflow/python/keras/engine/training.py:789 run_step  **\n",
            "        outputs = model.train_step(data)\n",
            "    /usr/local/lib/python3.6/dist-packages/tensorflow/python/keras/engine/training.py:747 train_step\n",
            "        y_pred = self(x, training=True)\n",
            "    /usr/local/lib/python3.6/dist-packages/tensorflow/python/keras/engine/base_layer.py:976 __call__\n",
            "        self.name)\n",
            "    /usr/local/lib/python3.6/dist-packages/tensorflow/python/keras/engine/input_spec.py:196 assert_input_compatibility\n",
            "        str(x.shape.as_list()))\n",
            "\n",
            "    ValueError: Input 0 of layer sequential_174 is incompatible with the layer: : expected min_ndim=4, found ndim=2. Full shape received: [50, 64]\n",
            "\n",
            "\n",
            "\n",
            "/usr/local/lib/python3.6/dist-packages/sklearn/model_selection/_validation.py:536: FitFailedWarning:\n",
            "\n",
            "Estimator fit failed. The score on this train-test partition for these parameters will be set to nan. Details: \n",
            "ValueError: in user code:\n",
            "\n",
            "    /usr/local/lib/python3.6/dist-packages/tensorflow/python/keras/engine/training.py:806 train_function  *\n",
            "        return step_function(self, iterator)\n",
            "    /usr/local/lib/python3.6/dist-packages/tensorflow/python/keras/engine/training.py:796 step_function  **\n",
            "        outputs = model.distribute_strategy.run(run_step, args=(data,))\n",
            "    /usr/local/lib/python3.6/dist-packages/tensorflow/python/distribute/distribute_lib.py:1211 run\n",
            "        return self._extended.call_for_each_replica(fn, args=args, kwargs=kwargs)\n",
            "    /usr/local/lib/python3.6/dist-packages/tensorflow/python/distribute/distribute_lib.py:2585 call_for_each_replica\n",
            "        return self._call_for_each_replica(fn, args, kwargs)\n",
            "    /usr/local/lib/python3.6/dist-packages/tensorflow/python/distribute/distribute_lib.py:2945 _call_for_each_replica\n",
            "        return fn(*args, **kwargs)\n",
            "    /usr/local/lib/python3.6/dist-packages/tensorflow/python/keras/engine/training.py:789 run_step  **\n",
            "        outputs = model.train_step(data)\n",
            "    /usr/local/lib/python3.6/dist-packages/tensorflow/python/keras/engine/training.py:747 train_step\n",
            "        y_pred = self(x, training=True)\n",
            "    /usr/local/lib/python3.6/dist-packages/tensorflow/python/keras/engine/base_layer.py:976 __call__\n",
            "        self.name)\n",
            "    /usr/local/lib/python3.6/dist-packages/tensorflow/python/keras/engine/input_spec.py:196 assert_input_compatibility\n",
            "        str(x.shape.as_list()))\n",
            "\n",
            "    ValueError: Input 0 of layer sequential_175 is incompatible with the layer: : expected min_ndim=4, found ndim=2. Full shape received: [50, 64]\n",
            "\n",
            "\n",
            "\n"
          ],
          "name": "stderr"
        },
        {
          "output_type": "stream",
          "text": [
            "Epoch 1/30\n",
            "Epoch 1/30\n"
          ],
          "name": "stdout"
        },
        {
          "output_type": "stream",
          "text": [
            "/usr/local/lib/python3.6/dist-packages/sklearn/model_selection/_validation.py:536: FitFailedWarning:\n",
            "\n",
            "Estimator fit failed. The score on this train-test partition for these parameters will be set to nan. Details: \n",
            "ValueError: in user code:\n",
            "\n",
            "    /usr/local/lib/python3.6/dist-packages/tensorflow/python/keras/engine/training.py:806 train_function  *\n",
            "        return step_function(self, iterator)\n",
            "    /usr/local/lib/python3.6/dist-packages/tensorflow/python/keras/engine/training.py:796 step_function  **\n",
            "        outputs = model.distribute_strategy.run(run_step, args=(data,))\n",
            "    /usr/local/lib/python3.6/dist-packages/tensorflow/python/distribute/distribute_lib.py:1211 run\n",
            "        return self._extended.call_for_each_replica(fn, args=args, kwargs=kwargs)\n",
            "    /usr/local/lib/python3.6/dist-packages/tensorflow/python/distribute/distribute_lib.py:2585 call_for_each_replica\n",
            "        return self._call_for_each_replica(fn, args, kwargs)\n",
            "    /usr/local/lib/python3.6/dist-packages/tensorflow/python/distribute/distribute_lib.py:2945 _call_for_each_replica\n",
            "        return fn(*args, **kwargs)\n",
            "    /usr/local/lib/python3.6/dist-packages/tensorflow/python/keras/engine/training.py:789 run_step  **\n",
            "        outputs = model.train_step(data)\n",
            "    /usr/local/lib/python3.6/dist-packages/tensorflow/python/keras/engine/training.py:747 train_step\n",
            "        y_pred = self(x, training=True)\n",
            "    /usr/local/lib/python3.6/dist-packages/tensorflow/python/keras/engine/base_layer.py:976 __call__\n",
            "        self.name)\n",
            "    /usr/local/lib/python3.6/dist-packages/tensorflow/python/keras/engine/input_spec.py:196 assert_input_compatibility\n",
            "        str(x.shape.as_list()))\n",
            "\n",
            "    ValueError: Input 0 of layer sequential_176 is incompatible with the layer: : expected min_ndim=4, found ndim=2. Full shape received: [None, 64]\n",
            "\n",
            "\n",
            "\n",
            "/usr/local/lib/python3.6/dist-packages/sklearn/model_selection/_validation.py:536: FitFailedWarning:\n",
            "\n",
            "Estimator fit failed. The score on this train-test partition for these parameters will be set to nan. Details: \n",
            "ValueError: in user code:\n",
            "\n",
            "    /usr/local/lib/python3.6/dist-packages/tensorflow/python/keras/engine/training.py:806 train_function  *\n",
            "        return step_function(self, iterator)\n",
            "    /usr/local/lib/python3.6/dist-packages/tensorflow/python/keras/engine/training.py:796 step_function  **\n",
            "        outputs = model.distribute_strategy.run(run_step, args=(data,))\n",
            "    /usr/local/lib/python3.6/dist-packages/tensorflow/python/distribute/distribute_lib.py:1211 run\n",
            "        return self._extended.call_for_each_replica(fn, args=args, kwargs=kwargs)\n",
            "    /usr/local/lib/python3.6/dist-packages/tensorflow/python/distribute/distribute_lib.py:2585 call_for_each_replica\n",
            "        return self._call_for_each_replica(fn, args, kwargs)\n",
            "    /usr/local/lib/python3.6/dist-packages/tensorflow/python/distribute/distribute_lib.py:2945 _call_for_each_replica\n",
            "        return fn(*args, **kwargs)\n",
            "    /usr/local/lib/python3.6/dist-packages/tensorflow/python/keras/engine/training.py:789 run_step  **\n",
            "        outputs = model.train_step(data)\n",
            "    /usr/local/lib/python3.6/dist-packages/tensorflow/python/keras/engine/training.py:747 train_step\n",
            "        y_pred = self(x, training=True)\n",
            "    /usr/local/lib/python3.6/dist-packages/tensorflow/python/keras/engine/base_layer.py:976 __call__\n",
            "        self.name)\n",
            "    /usr/local/lib/python3.6/dist-packages/tensorflow/python/keras/engine/input_spec.py:196 assert_input_compatibility\n",
            "        str(x.shape.as_list()))\n",
            "\n",
            "    ValueError: Input 0 of layer sequential_177 is incompatible with the layer: : expected min_ndim=4, found ndim=2. Full shape received: [None, 64]\n",
            "\n",
            "\n",
            "\n"
          ],
          "name": "stderr"
        },
        {
          "output_type": "stream",
          "text": [
            "Epoch 1/30\n",
            "Epoch 1/30\n"
          ],
          "name": "stdout"
        },
        {
          "output_type": "stream",
          "text": [
            "/usr/local/lib/python3.6/dist-packages/sklearn/model_selection/_validation.py:536: FitFailedWarning:\n",
            "\n",
            "Estimator fit failed. The score on this train-test partition for these parameters will be set to nan. Details: \n",
            "ValueError: in user code:\n",
            "\n",
            "    /usr/local/lib/python3.6/dist-packages/tensorflow/python/keras/engine/training.py:806 train_function  *\n",
            "        return step_function(self, iterator)\n",
            "    /usr/local/lib/python3.6/dist-packages/tensorflow/python/keras/engine/training.py:796 step_function  **\n",
            "        outputs = model.distribute_strategy.run(run_step, args=(data,))\n",
            "    /usr/local/lib/python3.6/dist-packages/tensorflow/python/distribute/distribute_lib.py:1211 run\n",
            "        return self._extended.call_for_each_replica(fn, args=args, kwargs=kwargs)\n",
            "    /usr/local/lib/python3.6/dist-packages/tensorflow/python/distribute/distribute_lib.py:2585 call_for_each_replica\n",
            "        return self._call_for_each_replica(fn, args, kwargs)\n",
            "    /usr/local/lib/python3.6/dist-packages/tensorflow/python/distribute/distribute_lib.py:2945 _call_for_each_replica\n",
            "        return fn(*args, **kwargs)\n",
            "    /usr/local/lib/python3.6/dist-packages/tensorflow/python/keras/engine/training.py:789 run_step  **\n",
            "        outputs = model.train_step(data)\n",
            "    /usr/local/lib/python3.6/dist-packages/tensorflow/python/keras/engine/training.py:747 train_step\n",
            "        y_pred = self(x, training=True)\n",
            "    /usr/local/lib/python3.6/dist-packages/tensorflow/python/keras/engine/base_layer.py:976 __call__\n",
            "        self.name)\n",
            "    /usr/local/lib/python3.6/dist-packages/tensorflow/python/keras/engine/input_spec.py:196 assert_input_compatibility\n",
            "        str(x.shape.as_list()))\n",
            "\n",
            "    ValueError: Input 0 of layer sequential_178 is incompatible with the layer: : expected min_ndim=4, found ndim=2. Full shape received: [50, 64]\n",
            "\n",
            "\n",
            "\n",
            "/usr/local/lib/python3.6/dist-packages/sklearn/model_selection/_validation.py:536: FitFailedWarning:\n",
            "\n",
            "Estimator fit failed. The score on this train-test partition for these parameters will be set to nan. Details: \n",
            "ValueError: in user code:\n",
            "\n",
            "    /usr/local/lib/python3.6/dist-packages/tensorflow/python/keras/engine/training.py:806 train_function  *\n",
            "        return step_function(self, iterator)\n",
            "    /usr/local/lib/python3.6/dist-packages/tensorflow/python/keras/engine/training.py:796 step_function  **\n",
            "        outputs = model.distribute_strategy.run(run_step, args=(data,))\n",
            "    /usr/local/lib/python3.6/dist-packages/tensorflow/python/distribute/distribute_lib.py:1211 run\n",
            "        return self._extended.call_for_each_replica(fn, args=args, kwargs=kwargs)\n",
            "    /usr/local/lib/python3.6/dist-packages/tensorflow/python/distribute/distribute_lib.py:2585 call_for_each_replica\n",
            "        return self._call_for_each_replica(fn, args, kwargs)\n",
            "    /usr/local/lib/python3.6/dist-packages/tensorflow/python/distribute/distribute_lib.py:2945 _call_for_each_replica\n",
            "        return fn(*args, **kwargs)\n",
            "    /usr/local/lib/python3.6/dist-packages/tensorflow/python/keras/engine/training.py:789 run_step  **\n",
            "        outputs = model.train_step(data)\n",
            "    /usr/local/lib/python3.6/dist-packages/tensorflow/python/keras/engine/training.py:747 train_step\n",
            "        y_pred = self(x, training=True)\n",
            "    /usr/local/lib/python3.6/dist-packages/tensorflow/python/keras/engine/base_layer.py:976 __call__\n",
            "        self.name)\n",
            "    /usr/local/lib/python3.6/dist-packages/tensorflow/python/keras/engine/input_spec.py:196 assert_input_compatibility\n",
            "        str(x.shape.as_list()))\n",
            "\n",
            "    ValueError: Input 0 of layer sequential_179 is incompatible with the layer: : expected min_ndim=4, found ndim=2. Full shape received: [50, 64]\n",
            "\n",
            "\n",
            "\n"
          ],
          "name": "stderr"
        },
        {
          "output_type": "stream",
          "text": [
            "Epoch 1/30\n",
            "Epoch 1/10\n"
          ],
          "name": "stdout"
        },
        {
          "output_type": "stream",
          "text": [
            "/usr/local/lib/python3.6/dist-packages/sklearn/model_selection/_validation.py:536: FitFailedWarning:\n",
            "\n",
            "Estimator fit failed. The score on this train-test partition for these parameters will be set to nan. Details: \n",
            "ValueError: in user code:\n",
            "\n",
            "    /usr/local/lib/python3.6/dist-packages/tensorflow/python/keras/engine/training.py:806 train_function  *\n",
            "        return step_function(self, iterator)\n",
            "    /usr/local/lib/python3.6/dist-packages/tensorflow/python/keras/engine/training.py:796 step_function  **\n",
            "        outputs = model.distribute_strategy.run(run_step, args=(data,))\n",
            "    /usr/local/lib/python3.6/dist-packages/tensorflow/python/distribute/distribute_lib.py:1211 run\n",
            "        return self._extended.call_for_each_replica(fn, args=args, kwargs=kwargs)\n",
            "    /usr/local/lib/python3.6/dist-packages/tensorflow/python/distribute/distribute_lib.py:2585 call_for_each_replica\n",
            "        return self._call_for_each_replica(fn, args, kwargs)\n",
            "    /usr/local/lib/python3.6/dist-packages/tensorflow/python/distribute/distribute_lib.py:2945 _call_for_each_replica\n",
            "        return fn(*args, **kwargs)\n",
            "    /usr/local/lib/python3.6/dist-packages/tensorflow/python/keras/engine/training.py:789 run_step  **\n",
            "        outputs = model.train_step(data)\n",
            "    /usr/local/lib/python3.6/dist-packages/tensorflow/python/keras/engine/training.py:747 train_step\n",
            "        y_pred = self(x, training=True)\n",
            "    /usr/local/lib/python3.6/dist-packages/tensorflow/python/keras/engine/base_layer.py:976 __call__\n",
            "        self.name)\n",
            "    /usr/local/lib/python3.6/dist-packages/tensorflow/python/keras/engine/input_spec.py:196 assert_input_compatibility\n",
            "        str(x.shape.as_list()))\n",
            "\n",
            "    ValueError: Input 0 of layer sequential_180 is incompatible with the layer: : expected min_ndim=4, found ndim=2. Full shape received: [50, 64]\n",
            "\n",
            "\n",
            "\n",
            "/usr/local/lib/python3.6/dist-packages/sklearn/model_selection/_validation.py:536: FitFailedWarning:\n",
            "\n",
            "Estimator fit failed. The score on this train-test partition for these parameters will be set to nan. Details: \n",
            "ValueError: in user code:\n",
            "\n",
            "    /usr/local/lib/python3.6/dist-packages/tensorflow/python/keras/engine/training.py:806 train_function  *\n",
            "        return step_function(self, iterator)\n",
            "    /usr/local/lib/python3.6/dist-packages/tensorflow/python/keras/engine/training.py:796 step_function  **\n",
            "        outputs = model.distribute_strategy.run(run_step, args=(data,))\n",
            "    /usr/local/lib/python3.6/dist-packages/tensorflow/python/distribute/distribute_lib.py:1211 run\n",
            "        return self._extended.call_for_each_replica(fn, args=args, kwargs=kwargs)\n",
            "    /usr/local/lib/python3.6/dist-packages/tensorflow/python/distribute/distribute_lib.py:2585 call_for_each_replica\n",
            "        return self._call_for_each_replica(fn, args, kwargs)\n",
            "    /usr/local/lib/python3.6/dist-packages/tensorflow/python/distribute/distribute_lib.py:2945 _call_for_each_replica\n",
            "        return fn(*args, **kwargs)\n",
            "    /usr/local/lib/python3.6/dist-packages/tensorflow/python/keras/engine/training.py:789 run_step  **\n",
            "        outputs = model.train_step(data)\n",
            "    /usr/local/lib/python3.6/dist-packages/tensorflow/python/keras/engine/training.py:747 train_step\n",
            "        y_pred = self(x, training=True)\n",
            "    /usr/local/lib/python3.6/dist-packages/tensorflow/python/keras/engine/base_layer.py:976 __call__\n",
            "        self.name)\n",
            "    /usr/local/lib/python3.6/dist-packages/tensorflow/python/keras/engine/input_spec.py:196 assert_input_compatibility\n",
            "        str(x.shape.as_list()))\n",
            "\n",
            "    ValueError: Input 0 of layer sequential_181 is incompatible with the layer: : expected min_ndim=4, found ndim=2. Full shape received: [None, 64]\n",
            "\n",
            "\n",
            "\n"
          ],
          "name": "stderr"
        },
        {
          "output_type": "stream",
          "text": [
            "Epoch 1/10\n",
            "Epoch 1/10\n"
          ],
          "name": "stdout"
        },
        {
          "output_type": "stream",
          "text": [
            "/usr/local/lib/python3.6/dist-packages/sklearn/model_selection/_validation.py:536: FitFailedWarning:\n",
            "\n",
            "Estimator fit failed. The score on this train-test partition for these parameters will be set to nan. Details: \n",
            "ValueError: in user code:\n",
            "\n",
            "    /usr/local/lib/python3.6/dist-packages/tensorflow/python/keras/engine/training.py:806 train_function  *\n",
            "        return step_function(self, iterator)\n",
            "    /usr/local/lib/python3.6/dist-packages/tensorflow/python/keras/engine/training.py:796 step_function  **\n",
            "        outputs = model.distribute_strategy.run(run_step, args=(data,))\n",
            "    /usr/local/lib/python3.6/dist-packages/tensorflow/python/distribute/distribute_lib.py:1211 run\n",
            "        return self._extended.call_for_each_replica(fn, args=args, kwargs=kwargs)\n",
            "    /usr/local/lib/python3.6/dist-packages/tensorflow/python/distribute/distribute_lib.py:2585 call_for_each_replica\n",
            "        return self._call_for_each_replica(fn, args, kwargs)\n",
            "    /usr/local/lib/python3.6/dist-packages/tensorflow/python/distribute/distribute_lib.py:2945 _call_for_each_replica\n",
            "        return fn(*args, **kwargs)\n",
            "    /usr/local/lib/python3.6/dist-packages/tensorflow/python/keras/engine/training.py:789 run_step  **\n",
            "        outputs = model.train_step(data)\n",
            "    /usr/local/lib/python3.6/dist-packages/tensorflow/python/keras/engine/training.py:747 train_step\n",
            "        y_pred = self(x, training=True)\n",
            "    /usr/local/lib/python3.6/dist-packages/tensorflow/python/keras/engine/base_layer.py:976 __call__\n",
            "        self.name)\n",
            "    /usr/local/lib/python3.6/dist-packages/tensorflow/python/keras/engine/input_spec.py:196 assert_input_compatibility\n",
            "        str(x.shape.as_list()))\n",
            "\n",
            "    ValueError: Input 0 of layer sequential_182 is incompatible with the layer: : expected min_ndim=4, found ndim=2. Full shape received: [None, 64]\n",
            "\n",
            "\n",
            "\n",
            "/usr/local/lib/python3.6/dist-packages/sklearn/model_selection/_validation.py:536: FitFailedWarning:\n",
            "\n",
            "Estimator fit failed. The score on this train-test partition for these parameters will be set to nan. Details: \n",
            "ValueError: in user code:\n",
            "\n",
            "    /usr/local/lib/python3.6/dist-packages/tensorflow/python/keras/engine/training.py:806 train_function  *\n",
            "        return step_function(self, iterator)\n",
            "    /usr/local/lib/python3.6/dist-packages/tensorflow/python/keras/engine/training.py:796 step_function  **\n",
            "        outputs = model.distribute_strategy.run(run_step, args=(data,))\n",
            "    /usr/local/lib/python3.6/dist-packages/tensorflow/python/distribute/distribute_lib.py:1211 run\n",
            "        return self._extended.call_for_each_replica(fn, args=args, kwargs=kwargs)\n",
            "    /usr/local/lib/python3.6/dist-packages/tensorflow/python/distribute/distribute_lib.py:2585 call_for_each_replica\n",
            "        return self._call_for_each_replica(fn, args, kwargs)\n",
            "    /usr/local/lib/python3.6/dist-packages/tensorflow/python/distribute/distribute_lib.py:2945 _call_for_each_replica\n",
            "        return fn(*args, **kwargs)\n",
            "    /usr/local/lib/python3.6/dist-packages/tensorflow/python/keras/engine/training.py:789 run_step  **\n",
            "        outputs = model.train_step(data)\n",
            "    /usr/local/lib/python3.6/dist-packages/tensorflow/python/keras/engine/training.py:747 train_step\n",
            "        y_pred = self(x, training=True)\n",
            "    /usr/local/lib/python3.6/dist-packages/tensorflow/python/keras/engine/base_layer.py:976 __call__\n",
            "        self.name)\n",
            "    /usr/local/lib/python3.6/dist-packages/tensorflow/python/keras/engine/input_spec.py:196 assert_input_compatibility\n",
            "        str(x.shape.as_list()))\n",
            "\n",
            "    ValueError: Input 0 of layer sequential_183 is incompatible with the layer: : expected min_ndim=4, found ndim=2. Full shape received: [None, 64]\n",
            "\n",
            "\n",
            "\n"
          ],
          "name": "stderr"
        },
        {
          "output_type": "stream",
          "text": [
            "Epoch 1/10\n",
            "Epoch 1/10\n"
          ],
          "name": "stdout"
        },
        {
          "output_type": "stream",
          "text": [
            "/usr/local/lib/python3.6/dist-packages/sklearn/model_selection/_validation.py:536: FitFailedWarning:\n",
            "\n",
            "Estimator fit failed. The score on this train-test partition for these parameters will be set to nan. Details: \n",
            "ValueError: in user code:\n",
            "\n",
            "    /usr/local/lib/python3.6/dist-packages/tensorflow/python/keras/engine/training.py:806 train_function  *\n",
            "        return step_function(self, iterator)\n",
            "    /usr/local/lib/python3.6/dist-packages/tensorflow/python/keras/engine/training.py:796 step_function  **\n",
            "        outputs = model.distribute_strategy.run(run_step, args=(data,))\n",
            "    /usr/local/lib/python3.6/dist-packages/tensorflow/python/distribute/distribute_lib.py:1211 run\n",
            "        return self._extended.call_for_each_replica(fn, args=args, kwargs=kwargs)\n",
            "    /usr/local/lib/python3.6/dist-packages/tensorflow/python/distribute/distribute_lib.py:2585 call_for_each_replica\n",
            "        return self._call_for_each_replica(fn, args, kwargs)\n",
            "    /usr/local/lib/python3.6/dist-packages/tensorflow/python/distribute/distribute_lib.py:2945 _call_for_each_replica\n",
            "        return fn(*args, **kwargs)\n",
            "    /usr/local/lib/python3.6/dist-packages/tensorflow/python/keras/engine/training.py:789 run_step  **\n",
            "        outputs = model.train_step(data)\n",
            "    /usr/local/lib/python3.6/dist-packages/tensorflow/python/keras/engine/training.py:747 train_step\n",
            "        y_pred = self(x, training=True)\n",
            "    /usr/local/lib/python3.6/dist-packages/tensorflow/python/keras/engine/base_layer.py:976 __call__\n",
            "        self.name)\n",
            "    /usr/local/lib/python3.6/dist-packages/tensorflow/python/keras/engine/input_spec.py:196 assert_input_compatibility\n",
            "        str(x.shape.as_list()))\n",
            "\n",
            "    ValueError: Input 0 of layer sequential_184 is incompatible with the layer: : expected min_ndim=4, found ndim=2. Full shape received: [None, 64]\n",
            "\n",
            "\n",
            "\n",
            "/usr/local/lib/python3.6/dist-packages/sklearn/model_selection/_validation.py:536: FitFailedWarning:\n",
            "\n",
            "Estimator fit failed. The score on this train-test partition for these parameters will be set to nan. Details: \n",
            "ValueError: in user code:\n",
            "\n",
            "    /usr/local/lib/python3.6/dist-packages/tensorflow/python/keras/engine/training.py:806 train_function  *\n",
            "        return step_function(self, iterator)\n",
            "    /usr/local/lib/python3.6/dist-packages/tensorflow/python/keras/engine/training.py:796 step_function  **\n",
            "        outputs = model.distribute_strategy.run(run_step, args=(data,))\n",
            "    /usr/local/lib/python3.6/dist-packages/tensorflow/python/distribute/distribute_lib.py:1211 run\n",
            "        return self._extended.call_for_each_replica(fn, args=args, kwargs=kwargs)\n",
            "    /usr/local/lib/python3.6/dist-packages/tensorflow/python/distribute/distribute_lib.py:2585 call_for_each_replica\n",
            "        return self._call_for_each_replica(fn, args, kwargs)\n",
            "    /usr/local/lib/python3.6/dist-packages/tensorflow/python/distribute/distribute_lib.py:2945 _call_for_each_replica\n",
            "        return fn(*args, **kwargs)\n",
            "    /usr/local/lib/python3.6/dist-packages/tensorflow/python/keras/engine/training.py:789 run_step  **\n",
            "        outputs = model.train_step(data)\n",
            "    /usr/local/lib/python3.6/dist-packages/tensorflow/python/keras/engine/training.py:747 train_step\n",
            "        y_pred = self(x, training=True)\n",
            "    /usr/local/lib/python3.6/dist-packages/tensorflow/python/keras/engine/base_layer.py:976 __call__\n",
            "        self.name)\n",
            "    /usr/local/lib/python3.6/dist-packages/tensorflow/python/keras/engine/input_spec.py:196 assert_input_compatibility\n",
            "        str(x.shape.as_list()))\n",
            "\n",
            "    ValueError: Input 0 of layer sequential_185 is incompatible with the layer: : expected min_ndim=4, found ndim=2. Full shape received: [None, 64]\n",
            "\n",
            "\n",
            "\n"
          ],
          "name": "stderr"
        },
        {
          "output_type": "stream",
          "text": [
            "Epoch 1/50\n",
            "Epoch 1/50\n"
          ],
          "name": "stdout"
        },
        {
          "output_type": "stream",
          "text": [
            "/usr/local/lib/python3.6/dist-packages/sklearn/model_selection/_validation.py:536: FitFailedWarning:\n",
            "\n",
            "Estimator fit failed. The score on this train-test partition for these parameters will be set to nan. Details: \n",
            "ValueError: in user code:\n",
            "\n",
            "    /usr/local/lib/python3.6/dist-packages/tensorflow/python/keras/engine/training.py:806 train_function  *\n",
            "        return step_function(self, iterator)\n",
            "    /usr/local/lib/python3.6/dist-packages/tensorflow/python/keras/engine/training.py:796 step_function  **\n",
            "        outputs = model.distribute_strategy.run(run_step, args=(data,))\n",
            "    /usr/local/lib/python3.6/dist-packages/tensorflow/python/distribute/distribute_lib.py:1211 run\n",
            "        return self._extended.call_for_each_replica(fn, args=args, kwargs=kwargs)\n",
            "    /usr/local/lib/python3.6/dist-packages/tensorflow/python/distribute/distribute_lib.py:2585 call_for_each_replica\n",
            "        return self._call_for_each_replica(fn, args, kwargs)\n",
            "    /usr/local/lib/python3.6/dist-packages/tensorflow/python/distribute/distribute_lib.py:2945 _call_for_each_replica\n",
            "        return fn(*args, **kwargs)\n",
            "    /usr/local/lib/python3.6/dist-packages/tensorflow/python/keras/engine/training.py:789 run_step  **\n",
            "        outputs = model.train_step(data)\n",
            "    /usr/local/lib/python3.6/dist-packages/tensorflow/python/keras/engine/training.py:747 train_step\n",
            "        y_pred = self(x, training=True)\n",
            "    /usr/local/lib/python3.6/dist-packages/tensorflow/python/keras/engine/base_layer.py:976 __call__\n",
            "        self.name)\n",
            "    /usr/local/lib/python3.6/dist-packages/tensorflow/python/keras/engine/input_spec.py:196 assert_input_compatibility\n",
            "        str(x.shape.as_list()))\n",
            "\n",
            "    ValueError: Input 0 of layer sequential_201 is incompatible with the layer: : expected min_ndim=4, found ndim=2. Full shape received: [None, 64]\n",
            "\n",
            "\n",
            "\n",
            "/usr/local/lib/python3.6/dist-packages/sklearn/model_selection/_validation.py:536: FitFailedWarning:\n",
            "\n",
            "Estimator fit failed. The score on this train-test partition for these parameters will be set to nan. Details: \n",
            "ValueError: in user code:\n",
            "\n",
            "    /usr/local/lib/python3.6/dist-packages/tensorflow/python/keras/engine/training.py:806 train_function  *\n",
            "        return step_function(self, iterator)\n",
            "    /usr/local/lib/python3.6/dist-packages/tensorflow/python/keras/engine/training.py:796 step_function  **\n",
            "        outputs = model.distribute_strategy.run(run_step, args=(data,))\n",
            "    /usr/local/lib/python3.6/dist-packages/tensorflow/python/distribute/distribute_lib.py:1211 run\n",
            "        return self._extended.call_for_each_replica(fn, args=args, kwargs=kwargs)\n",
            "    /usr/local/lib/python3.6/dist-packages/tensorflow/python/distribute/distribute_lib.py:2585 call_for_each_replica\n",
            "        return self._call_for_each_replica(fn, args, kwargs)\n",
            "    /usr/local/lib/python3.6/dist-packages/tensorflow/python/distribute/distribute_lib.py:2945 _call_for_each_replica\n",
            "        return fn(*args, **kwargs)\n",
            "    /usr/local/lib/python3.6/dist-packages/tensorflow/python/keras/engine/training.py:789 run_step  **\n",
            "        outputs = model.train_step(data)\n",
            "    /usr/local/lib/python3.6/dist-packages/tensorflow/python/keras/engine/training.py:747 train_step\n",
            "        y_pred = self(x, training=True)\n",
            "    /usr/local/lib/python3.6/dist-packages/tensorflow/python/keras/engine/base_layer.py:976 __call__\n",
            "        self.name)\n",
            "    /usr/local/lib/python3.6/dist-packages/tensorflow/python/keras/engine/input_spec.py:196 assert_input_compatibility\n",
            "        str(x.shape.as_list()))\n",
            "\n",
            "    ValueError: Input 0 of layer sequential_202 is incompatible with the layer: : expected min_ndim=4, found ndim=2. Full shape received: [None, 64]\n",
            "\n",
            "\n",
            "\n"
          ],
          "name": "stderr"
        },
        {
          "output_type": "stream",
          "text": [
            "Epoch 1/50\n",
            "Epoch 1/50\n"
          ],
          "name": "stdout"
        },
        {
          "output_type": "stream",
          "text": [
            "/usr/local/lib/python3.6/dist-packages/sklearn/model_selection/_validation.py:536: FitFailedWarning:\n",
            "\n",
            "Estimator fit failed. The score on this train-test partition for these parameters will be set to nan. Details: \n",
            "ValueError: in user code:\n",
            "\n",
            "    /usr/local/lib/python3.6/dist-packages/tensorflow/python/keras/engine/training.py:806 train_function  *\n",
            "        return step_function(self, iterator)\n",
            "    /usr/local/lib/python3.6/dist-packages/tensorflow/python/keras/engine/training.py:796 step_function  **\n",
            "        outputs = model.distribute_strategy.run(run_step, args=(data,))\n",
            "    /usr/local/lib/python3.6/dist-packages/tensorflow/python/distribute/distribute_lib.py:1211 run\n",
            "        return self._extended.call_for_each_replica(fn, args=args, kwargs=kwargs)\n",
            "    /usr/local/lib/python3.6/dist-packages/tensorflow/python/distribute/distribute_lib.py:2585 call_for_each_replica\n",
            "        return self._call_for_each_replica(fn, args, kwargs)\n",
            "    /usr/local/lib/python3.6/dist-packages/tensorflow/python/distribute/distribute_lib.py:2945 _call_for_each_replica\n",
            "        return fn(*args, **kwargs)\n",
            "    /usr/local/lib/python3.6/dist-packages/tensorflow/python/keras/engine/training.py:789 run_step  **\n",
            "        outputs = model.train_step(data)\n",
            "    /usr/local/lib/python3.6/dist-packages/tensorflow/python/keras/engine/training.py:747 train_step\n",
            "        y_pred = self(x, training=True)\n",
            "    /usr/local/lib/python3.6/dist-packages/tensorflow/python/keras/engine/base_layer.py:976 __call__\n",
            "        self.name)\n",
            "    /usr/local/lib/python3.6/dist-packages/tensorflow/python/keras/engine/input_spec.py:196 assert_input_compatibility\n",
            "        str(x.shape.as_list()))\n",
            "\n",
            "    ValueError: Input 0 of layer sequential_203 is incompatible with the layer: : expected min_ndim=4, found ndim=2. Full shape received: [50, 64]\n",
            "\n",
            "\n",
            "\n",
            "/usr/local/lib/python3.6/dist-packages/sklearn/model_selection/_validation.py:536: FitFailedWarning:\n",
            "\n",
            "Estimator fit failed. The score on this train-test partition for these parameters will be set to nan. Details: \n",
            "ValueError: in user code:\n",
            "\n",
            "    /usr/local/lib/python3.6/dist-packages/tensorflow/python/keras/engine/training.py:806 train_function  *\n",
            "        return step_function(self, iterator)\n",
            "    /usr/local/lib/python3.6/dist-packages/tensorflow/python/keras/engine/training.py:796 step_function  **\n",
            "        outputs = model.distribute_strategy.run(run_step, args=(data,))\n",
            "    /usr/local/lib/python3.6/dist-packages/tensorflow/python/distribute/distribute_lib.py:1211 run\n",
            "        return self._extended.call_for_each_replica(fn, args=args, kwargs=kwargs)\n",
            "    /usr/local/lib/python3.6/dist-packages/tensorflow/python/distribute/distribute_lib.py:2585 call_for_each_replica\n",
            "        return self._call_for_each_replica(fn, args, kwargs)\n",
            "    /usr/local/lib/python3.6/dist-packages/tensorflow/python/distribute/distribute_lib.py:2945 _call_for_each_replica\n",
            "        return fn(*args, **kwargs)\n",
            "    /usr/local/lib/python3.6/dist-packages/tensorflow/python/keras/engine/training.py:789 run_step  **\n",
            "        outputs = model.train_step(data)\n",
            "    /usr/local/lib/python3.6/dist-packages/tensorflow/python/keras/engine/training.py:747 train_step\n",
            "        y_pred = self(x, training=True)\n",
            "    /usr/local/lib/python3.6/dist-packages/tensorflow/python/keras/engine/base_layer.py:976 __call__\n",
            "        self.name)\n",
            "    /usr/local/lib/python3.6/dist-packages/tensorflow/python/keras/engine/input_spec.py:196 assert_input_compatibility\n",
            "        str(x.shape.as_list()))\n",
            "\n",
            "    ValueError: Input 0 of layer sequential_204 is incompatible with the layer: : expected min_ndim=4, found ndim=2. Full shape received: [50, 64]\n",
            "\n",
            "\n",
            "\n"
          ],
          "name": "stderr"
        },
        {
          "output_type": "stream",
          "text": [
            "Epoch 1/50\n",
            "Epoch 1/10\n"
          ],
          "name": "stdout"
        },
        {
          "output_type": "stream",
          "text": [
            "/usr/local/lib/python3.6/dist-packages/sklearn/model_selection/_validation.py:536: FitFailedWarning:\n",
            "\n",
            "Estimator fit failed. The score on this train-test partition for these parameters will be set to nan. Details: \n",
            "ValueError: in user code:\n",
            "\n",
            "    /usr/local/lib/python3.6/dist-packages/tensorflow/python/keras/engine/training.py:806 train_function  *\n",
            "        return step_function(self, iterator)\n",
            "    /usr/local/lib/python3.6/dist-packages/tensorflow/python/keras/engine/training.py:796 step_function  **\n",
            "        outputs = model.distribute_strategy.run(run_step, args=(data,))\n",
            "    /usr/local/lib/python3.6/dist-packages/tensorflow/python/distribute/distribute_lib.py:1211 run\n",
            "        return self._extended.call_for_each_replica(fn, args=args, kwargs=kwargs)\n",
            "    /usr/local/lib/python3.6/dist-packages/tensorflow/python/distribute/distribute_lib.py:2585 call_for_each_replica\n",
            "        return self._call_for_each_replica(fn, args, kwargs)\n",
            "    /usr/local/lib/python3.6/dist-packages/tensorflow/python/distribute/distribute_lib.py:2945 _call_for_each_replica\n",
            "        return fn(*args, **kwargs)\n",
            "    /usr/local/lib/python3.6/dist-packages/tensorflow/python/keras/engine/training.py:789 run_step  **\n",
            "        outputs = model.train_step(data)\n",
            "    /usr/local/lib/python3.6/dist-packages/tensorflow/python/keras/engine/training.py:747 train_step\n",
            "        y_pred = self(x, training=True)\n",
            "    /usr/local/lib/python3.6/dist-packages/tensorflow/python/keras/engine/base_layer.py:976 __call__\n",
            "        self.name)\n",
            "    /usr/local/lib/python3.6/dist-packages/tensorflow/python/keras/engine/input_spec.py:196 assert_input_compatibility\n",
            "        str(x.shape.as_list()))\n",
            "\n",
            "    ValueError: Input 0 of layer sequential_205 is incompatible with the layer: : expected min_ndim=4, found ndim=2. Full shape received: [50, 64]\n",
            "\n",
            "\n",
            "\n"
          ],
          "name": "stderr"
        },
        {
          "output_type": "stream",
          "text": [
            "48/48 [==============================] - 0s 1ms/step - loss: 2.2883 - accuracy: 0.2136\n",
            "Epoch 2/10\n",
            "48/48 [==============================] - 0s 2ms/step - loss: 2.2731 - accuracy: 0.4071\n",
            "Epoch 3/10\n",
            "48/48 [==============================] - 0s 2ms/step - loss: 2.2580 - accuracy: 0.5685\n",
            "Epoch 4/10\n",
            "48/48 [==============================] - 0s 1ms/step - loss: 2.2433 - accuracy: 0.6228\n",
            "Epoch 5/10\n",
            "48/48 [==============================] - 0s 2ms/step - loss: 2.2288 - accuracy: 0.6778\n",
            "Epoch 6/10\n",
            "48/48 [==============================] - 0s 2ms/step - loss: 2.2142 - accuracy: 0.7314\n",
            "Epoch 7/10\n",
            "48/48 [==============================] - 0s 1ms/step - loss: 2.1999 - accuracy: 0.7794\n",
            "Epoch 8/10\n",
            "48/48 [==============================] - 0s 2ms/step - loss: 2.1858 - accuracy: 0.8003\n",
            "Epoch 9/10\n",
            "48/48 [==============================] - 0s 2ms/step - loss: 2.1717 - accuracy: 0.8045\n",
            "Epoch 10/10\n",
            "48/48 [==============================] - 0s 2ms/step - loss: 2.1578 - accuracy: 0.8017\n"
          ],
          "name": "stdout"
        }
      ]
    },
    {
      "cell_type": "code",
      "metadata": {
        "id": "SM25xA7PbwcZ",
        "colab": {
          "base_uri": "https://localhost:8080/",
          "height": 208
        },
        "outputId": "c00b72f5-1a60-4b9b-e6b3-e9966d8ad230"
      },
      "source": [
        "cnn.best_params_"
      ],
      "execution_count": null,
      "outputs": [
        {
          "output_type": "execute_result",
          "data": {
            "text/plain": [
              "{'a_function': 'elu',\n",
              " 'batch_size': 30,\n",
              " 'drop_out': False,\n",
              " 'epochs': 10,\n",
              " 'filter_size': (3, 4),\n",
              " 'lrt': 0.001,\n",
              " 'model_choice': 'model2',\n",
              " 'n_filters': 64,\n",
              " 'n_units': 128,\n",
              " 'pool': False,\n",
              " 'stride': (1, 1)}"
            ]
          },
          "metadata": {
            "tags": []
          },
          "execution_count": 80
        }
      ]
    },
    {
      "cell_type": "code",
      "metadata": {
        "id": "4GfebME7SByi",
        "colab": {
          "base_uri": "https://localhost:8080/",
          "height": 54
        },
        "outputId": "383417d9-34e7-44cb-8c77-24838f6d57ab"
      },
      "source": [
        "#cnn.best_estimator_.fit(X_train, y_train) \n",
        "acc=cnn.score(X_test,y_test)"
      ],
      "execution_count": null,
      "outputs": [
        {
          "output_type": "stream",
          "text": [
            "WARNING:tensorflow:5 out of the last 13 calls to <function Model.make_predict_function.<locals>.predict_function at 0x7f168215cf28> triggered tf.function retracing. Tracing is expensive and the excessive number of tracings could be due to (1) creating @tf.function repeatedly in a loop, (2) passing tensors with different shapes, (3) passing Python objects instead of tensors. For (1), please define your @tf.function outside of the loop. For (2), @tf.function has experimental_relax_shapes=True option that relaxes argument shapes that can avoid unnecessary retracing. For (3), please refer to https://www.tensorflow.org/tutorials/customization/performance#python_or_tensor_args and https://www.tensorflow.org/api_docs/python/tf/function for  more details.\n"
          ],
          "name": "stdout"
        }
      ]
    },
    {
      "cell_type": "code",
      "metadata": {
        "id": "B-eyVHGXbUQS",
        "colab": {
          "base_uri": "https://localhost:8080/",
          "height": 34
        },
        "outputId": "a19456d7-6a3e-495d-ad5c-0583e977c024"
      },
      "source": [
        "print('Accuracy is: %0.2f'% acc)"
      ],
      "execution_count": null,
      "outputs": [
        {
          "output_type": "stream",
          "text": [
            "Accuracy is: 0.97\n"
          ],
          "name": "stdout"
        }
      ]
    },
    {
      "cell_type": "code",
      "metadata": {
        "id": "LzQ_biOAbf9b"
      },
      "source": [
        "y_pred=cnn.predict(X_test)\n",
        "print('CNN','\\n',confusion_matrix(y_test,y_pred))"
      ],
      "execution_count": null,
      "outputs": []
    }
  ]
}